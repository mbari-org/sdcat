{
 "cells": [
  {
   "cell_type": "markdown",
   "id": "5fec46c020b895a",
   "metadata": {
    "collapsed": false,
    "jupyter": {
     "outputs_hidden": false
    }
   },
   "source": [
    "# Welcome to the SAHI detection notebook. \n",
    "\n",
    "This notebook introduces you to running the sliced detection method (SAHI).  This is a lightweight wrapper on the SAHI method that does some pre-processing on the image before detection.  Results are returned to a pandas dataframe for further inspection and saved to the output path specified in a CSV formatted output.  More features are captured in the command line interface, such as creating a "
   ]
  },
  {
   "cell_type": "markdown",
   "id": "3ce3d68ddd33bd3c",
   "metadata": {
    "collapsed": false,
    "jupyter": {
     "outputs_hidden": false
    }
   },
   "source": [
    "# First, import needed dependencies"
   ]
  },
  {
   "cell_type": "code",
   "execution_count": 1,
   "id": "a3f1b6dd-b56f-47a7-948e-86be35336577",
   "metadata": {},
   "outputs": [],
   "source": [
    "import sys\n",
    "sys.path.append('..')\n",
    "from pathlib import Path\n",
    "from huggingface_hub import hf_hub_download\n",
    "from pathlib import Path\n",
    "from sdcat.detect.sahi_detector import run_sahi_detect\n",
    "from sahi import AutoDetectionModel"
   ]
  },
  {
   "cell_type": "markdown",
   "id": "a366e55bf59e7a79",
   "metadata": {
    "collapsed": false,
    "jupyter": {
     "outputs_hidden": false
    }
   },
   "source": [
    "# Run detection\n",
    "\n",
    "Let's process at 50 percent reduced size since the raw image is very large 7952x5304 and we don't need the full resolution to get reasonable results."
   ]
  },
  {
   "cell_type": "code",
   "execution_count": 2,
   "id": "9f9dd3f8-c886-4d32-a203-5204a343e721",
   "metadata": {
    "collapsed": false,
    "is_executing": true,
    "jupyter": {
     "outputs_hidden": false
    }
   },
   "outputs": [
    {
     "name": "stderr",
     "output_type": "stream",
     "text": [
      "02/27/2024 10:08:17 - INFO - sdcat -   Processing /Users/dcline/Dropbox/code/sdcat/sdcat/tests/data/bird/DSC00770.JPG\n",
      "02/27/2024 10:08:17 - INFO - sdcat -   Using slice size width: 1600 and height: 1600\n"
     ]
    },
    {
     "name": "stdout",
     "output_type": "stream",
     "text": [
      "Performing prediction on 12 number of slices.\n"
     ]
    },
    {
     "name": "stderr",
     "output_type": "stream",
     "text": [
      "02/27/2024 10:08:26 - INFO - sdcat -   ObjectPrediction<\n",
      "    bbox: BoundingBox: <(1652.4223022460938, 1269.49462890625, 1699.4335327148438, 1308.540771484375), w: 47.01123046875, h: 39.046142578125>,\n",
      "    mask: None,\n",
      "    score: PredictionScore: <value: 0.27579379081726074>,\n",
      "    category: Category: <id: 14, name: Seagull>>\n",
      "02/27/2024 10:08:26 - INFO - sdcat -   ObjectPrediction<\n",
      "    bbox: BoundingBox: <(1616.7871704101562, 1135.657943725586, 1669.92333984375, 1169.05517578125), w: 53.13616943359375, h: 33.39723205566406>,\n",
      "    mask: None,\n",
      "    score: PredictionScore: <value: 0.24441100656986237>,\n",
      "    category: Category: <id: 14, name: Seagull>>\n",
      "02/27/2024 10:08:26 - INFO - sdcat -   ObjectPrediction<\n",
      "    bbox: BoundingBox: <(914.9107, 2115.8342, 939.04364, 2148.281), w: 24.1329345703125, h: 32.44677734375>,\n",
      "    mask: None,\n",
      "    score: PredictionScore: <value: 0.22180786728858948>,\n",
      "    category: Category: <id: 14, name: Seagull>>\n",
      "02/27/2024 10:08:26 - INFO - sdcat -   ObjectPrediction<\n",
      "    bbox: BoundingBox: <(1210.2857666015625, 1622.351806640625, 1255.767333984375, 1649.2919921875), w: 45.4815673828125, h: 26.940185546875>,\n",
      "    mask: None,\n",
      "    score: PredictionScore: <value: 0.19687682390213013>,\n",
      "    category: Category: <id: 14, name: Seagull>>\n",
      "02/27/2024 10:08:26 - INFO - sdcat -   ObjectPrediction<\n",
      "    bbox: BoundingBox: <(2109.699951171875, 1098.7431640625, 2118.950210571289, 1107.9682922363281), w: 9.250259399414062, h: 9.225128173828125>,\n",
      "    mask: None,\n",
      "    score: PredictionScore: <value: 0.1837482452392578>,\n",
      "    category: Category: <id: 14, name: Seagull>>\n",
      "02/27/2024 10:08:26 - INFO - sdcat -   ObjectPrediction<\n",
      "    bbox: BoundingBox: <(1197.94580078125, 1631.9464111328125, 1222.2314453125, 1648.218994140625), w: 24.28564453125, h: 16.2725830078125>,\n",
      "    mask: None,\n",
      "    score: PredictionScore: <value: 0.1695203185081482>,\n",
      "    category: Category: <id: 14, name: Seagull>>\n",
      "02/27/2024 10:08:26 - INFO - sdcat -   ObjectPrediction<\n",
      "    bbox: BoundingBox: <(789.1007690429688, 1922.1368408203125, 802.0631103515625, 1937.4425048828125), w: 12.96234130859375, h: 15.3056640625>,\n",
      "    mask: None,\n",
      "    score: PredictionScore: <value: 0.14314372837543488>,\n",
      "    category: Category: <id: 14, name: Seagull>>\n",
      "02/27/2024 10:08:26 - INFO - sdcat -   ObjectPrediction<\n",
      "    bbox: BoundingBox: <(1565.7776489257812, 938.5344848632812, 1624.9374389648438, 966.92041015625), w: 59.1597900390625, h: 28.38592529296875>,\n",
      "    mask: None,\n",
      "    score: PredictionScore: <value: 0.12131715565919876>,\n",
      "    category: Category: <id: 14, name: Seagull>>\n",
      "02/27/2024 10:08:26 - INFO - sdcat -   ObjectPrediction<\n",
      "    bbox: BoundingBox: <(1471.7528076171875, 621.9021606445312, 1521.9717407226562, 647.9461669921875), w: 50.21893310546875, h: 26.04400634765625>,\n",
      "    mask: None,\n",
      "    score: PredictionScore: <value: 0.11858248710632324>,\n",
      "    category: Category: <id: 14, name: Seagull>>\n"
     ]
    }
   ],
   "source": [
    "scale_percent = 50\n",
    "image_path = Path.cwd().parent / 'sdcat' / 'tests' / 'data' / 'bird' / 'DSC00770.JPG'\n",
    "csv_out_path =  Path.cwd() / 'sahi' / f'{image_path.stem}.csv'\n",
    "slice_width = 1600\n",
    "slice_height = 1600\n",
    "confidence = 0.1\n",
    "\n",
    "# Download the MBARI UAV model\n",
    "model_path = hf_hub_download(repo_id=\"MBARI-org/uav-yolov5\", filename=\"best.pt\")\n",
    "detection_model = AutoDetectionModel.from_pretrained(\n",
    "    model_type='yolov5',\n",
    "    model_path=model_path,\n",
    "    config_path=model_path,\n",
    "    confidence_threshold=confidence,\n",
    "    device='cpu',\n",
    ")\n",
    "\n",
    "# Create the output directory \n",
    "csv_out_path.parent.mkdir(parents=True, exist_ok=True)\n",
    "\n",
    "# Run the detection\n",
    "df_detections = run_sahi_detect(scale_percent=scale_percent, \n",
    "                                image_path=image_path,\n",
    "                                csv_out_path=csv_out_path,\n",
    "                                slice_width=slice_width,\n",
    "                                slice_height=slice_height,\n",
    "                                detection_model=detection_model)"
   ]
  },
  {
   "cell_type": "markdown",
   "id": "3bda2110765d92e2",
   "metadata": {
    "collapsed": false,
    "jupyter": {
     "outputs_hidden": false
    }
   },
   "source": [
    "# Results"
   ]
  },
  {
   "cell_type": "markdown",
   "id": "ae874cee7b4e83a9",
   "metadata": {
    "collapsed": false,
    "jupyter": {
     "outputs_hidden": false
    }
   },
   "source": [
    "Results are saved to the **csv_out_path**. Let's take a look at the first few rows of the dataframe."
   ]
  },
  {
   "cell_type": "code",
   "execution_count": 3,
   "id": "ee355052-7d9d-4eee-83f1-15ea15328e9e",
   "metadata": {},
   "outputs": [
    {
     "data": {
      "text/html": [
       "<div>\n",
       "<style scoped>\n",
       "    .dataframe tbody tr th:only-of-type {\n",
       "        vertical-align: middle;\n",
       "    }\n",
       "\n",
       "    .dataframe tbody tr th {\n",
       "        vertical-align: top;\n",
       "    }\n",
       "\n",
       "    .dataframe thead th {\n",
       "        text-align: right;\n",
       "    }\n",
       "</style>\n",
       "<table border=\"1\" class=\"dataframe\">\n",
       "  <thead>\n",
       "    <tr style=\"text-align: right;\">\n",
       "      <th></th>\n",
       "      <th>image_path</th>\n",
       "      <th>class</th>\n",
       "      <th>score</th>\n",
       "      <th>area</th>\n",
       "      <th>saliency</th>\n",
       "      <th>...</th>\n",
       "      <th>y</th>\n",
       "      <th>xx</th>\n",
       "      <th>xy</th>\n",
       "      <th>w</th>\n",
       "      <th>h</th>\n",
       "    </tr>\n",
       "  </thead>\n",
       "  <tbody>\n",
       "    <tr>\n",
       "      <th>0</th>\n",
       "      <td>/Users/dcline/Dropbox/code/sdcat/sdcat/tests/d...</td>\n",
       "      <td>Seagull</td>\n",
       "      <td>0.275794</td>\n",
       "      <td>1835.607208</td>\n",
       "      <td>-1</td>\n",
       "      <td>...</td>\n",
       "      <td>2538.989258</td>\n",
       "      <td>3398.867065</td>\n",
       "      <td>2617.081543</td>\n",
       "      <td>94.022461</td>\n",
       "      <td>78.092285</td>\n",
       "    </tr>\n",
       "    <tr>\n",
       "      <th>0</th>\n",
       "      <td>/Users/dcline/Dropbox/code/sdcat/sdcat/tests/d...</td>\n",
       "      <td>Seagull</td>\n",
       "      <td>0.244411</td>\n",
       "      <td>1774.600981</td>\n",
       "      <td>-1</td>\n",
       "      <td>...</td>\n",
       "      <td>2271.315887</td>\n",
       "      <td>3339.846680</td>\n",
       "      <td>2338.110352</td>\n",
       "      <td>106.272339</td>\n",
       "      <td>66.794464</td>\n",
       "    </tr>\n",
       "    <tr>\n",
       "      <th>0</th>\n",
       "      <td>/Users/dcline/Dropbox/code/sdcat/sdcat/tests/d...</td>\n",
       "      <td>Seagull</td>\n",
       "      <td>0.221808</td>\n",
       "      <td>783.035950</td>\n",
       "      <td>-1</td>\n",
       "      <td>...</td>\n",
       "      <td>4231.668457</td>\n",
       "      <td>1878.087280</td>\n",
       "      <td>4296.562012</td>\n",
       "      <td>48.265869</td>\n",
       "      <td>64.893555</td>\n",
       "    </tr>\n",
       "    <tr>\n",
       "      <th>0</th>\n",
       "      <td>/Users/dcline/Dropbox/code/sdcat/sdcat/tests/d...</td>\n",
       "      <td>Seagull</td>\n",
       "      <td>0.196877</td>\n",
       "      <td>1225.281864</td>\n",
       "      <td>-1</td>\n",
       "      <td>...</td>\n",
       "      <td>3244.703613</td>\n",
       "      <td>2511.534668</td>\n",
       "      <td>3298.583984</td>\n",
       "      <td>90.963135</td>\n",
       "      <td>53.880371</td>\n",
       "    </tr>\n",
       "    <tr>\n",
       "      <th>0</th>\n",
       "      <td>/Users/dcline/Dropbox/code/sdcat/sdcat/tests/d...</td>\n",
       "      <td>Seagull</td>\n",
       "      <td>0.183748</td>\n",
       "      <td>85.334829</td>\n",
       "      <td>-1</td>\n",
       "      <td>...</td>\n",
       "      <td>2197.486328</td>\n",
       "      <td>4237.900421</td>\n",
       "      <td>2215.936584</td>\n",
       "      <td>18.500519</td>\n",
       "      <td>18.450256</td>\n",
       "    </tr>\n",
       "  </tbody>\n",
       "</table>\n",
       "<p>5 rows × 11 columns</p>\n",
       "</div>"
      ],
      "text/plain": [
       "                                          image_path    class     score  \\\n",
       "0  /Users/dcline/Dropbox/code/sdcat/sdcat/tests/d...  Seagull  0.275794   \n",
       "0  /Users/dcline/Dropbox/code/sdcat/sdcat/tests/d...  Seagull  0.244411   \n",
       "0  /Users/dcline/Dropbox/code/sdcat/sdcat/tests/d...  Seagull  0.221808   \n",
       "0  /Users/dcline/Dropbox/code/sdcat/sdcat/tests/d...  Seagull  0.196877   \n",
       "0  /Users/dcline/Dropbox/code/sdcat/sdcat/tests/d...  Seagull  0.183748   \n",
       "\n",
       "          area  saliency  ...            y           xx           xy  \\\n",
       "0  1835.607208        -1  ...  2538.989258  3398.867065  2617.081543   \n",
       "0  1774.600981        -1  ...  2271.315887  3339.846680  2338.110352   \n",
       "0   783.035950        -1  ...  4231.668457  1878.087280  4296.562012   \n",
       "0  1225.281864        -1  ...  3244.703613  2511.534668  3298.583984   \n",
       "0    85.334829        -1  ...  2197.486328  4237.900421  2215.936584   \n",
       "\n",
       "            w          h  \n",
       "0   94.022461  78.092285  \n",
       "0  106.272339  66.794464  \n",
       "0   48.265869  64.893555  \n",
       "0   90.963135  53.880371  \n",
       "0   18.500519  18.450256  \n",
       "\n",
       "[5 rows x 11 columns]"
      ]
     },
     "execution_count": 3,
     "metadata": {},
     "output_type": "execute_result"
    }
   ],
   "source": [
    "df_detections.head()"
   ]
  },
  {
   "cell_type": "code",
   "execution_count": 4,
   "id": "e05e028b-f431-4960-9a0a-779b9e07e58b",
   "metadata": {},
   "outputs": [
    {
     "name": "stdout",
     "output_type": "stream",
     "text": [
      "total 8\n",
      "-rw-r--r--  1 dcline  513  2032 Feb 27 10:08 DSC00770.csv\n"
     ]
    }
   ],
   "source": [
    "!ls -l /Users/dcline/Dropbox/code/sdcat/examples/sahi/"
   ]
  }
 ],
 "metadata": {
  "kernelspec": {
   "display_name": "sdcat",
   "language": "python",
   "name": "sdcat"
  },
  "language_info": {
   "codemirror_mode": {
    "name": "ipython",
    "version": 3
   },
   "file_extension": ".py",
   "mimetype": "text/x-python",
   "name": "python",
   "nbconvert_exporter": "python",
   "pygments_lexer": "ipython3",
   "version": "3.11.8"
  }
 },
 "nbformat": 4,
 "nbformat_minor": 5
}
